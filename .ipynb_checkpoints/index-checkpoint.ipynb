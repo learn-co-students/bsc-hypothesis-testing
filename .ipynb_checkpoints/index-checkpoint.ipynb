{
 "cells": [
  {
   "cell_type": "markdown",
   "id": "255afeed-0159-440f-bb12-6c3d4d6622d3",
   "metadata": {
    "index": 0
   },
   "source": [
    "# Hypothesis Testing Practice\n",
    "\n",
    "In this notebook we will practice running hypothesis tests, and interpreting the results.\n",
    "\n",
    "Specifically, we will\n",
    "\n",
    "* Import the necessary python packages\n",
    "* Read in a csv file using pandas\n",
    "* Drop observations from a dataset\n",
    "* Isolate two subsets of data in a pandas dataframe\n",
    "* Write the hypotheses for a hypothesis test\n",
    "* Calculate the t statistic and p value for the two groups (mostly) from scratch\n",
    "* Interpret the results\n",
    "* Run a ttest with the `scipy.stats` module"
   ]
  },
  {
   "cell_type": "markdown",
   "id": "be30aef7-4b4e-419a-974a-3b5fbb08c540",
   "metadata": {
    "index": 1
   },
   "source": [
    "## Import the necessary python packages"
   ]
  },
  {
   "cell_type": "markdown",
   "id": "1fad3b86-6903-4ff7-a288-22f1100c8c78",
   "metadata": {
    "index": 2
   },
   "source": [
    "First let's import the packages we will need. In the cell below, import:\n",
    "\n",
    "1. pandas using the standard alias\n",
    "2. numpy using the standard alias\n",
    "3. The scipy stats module\n",
    "4. The pyplot module from matplotlib"
   ]
  },
  {
   "cell_type": "code",
   "execution_count": null,
   "id": "5c33bf7d-9b57-452e-b5d2-1c2900bcab22",
   "metadata": {
    "index": 3
   },
   "outputs": [],
   "source": [
    "# Your code here"
   ]
  },
  {
   "cell_type": "markdown",
   "id": "f660ac64-d48f-43e8-99a8-c6db774b044f",
   "metadata": {
    "index": 5
   },
   "source": [
    "## Read in a csv file using pandas"
   ]
  },
  {
   "cell_type": "markdown",
   "id": "8f909fb9-2819-4b34-8ac1-81cb24f8f35f",
   "metadata": {
    "index": 6
   },
   "source": [
    "For our first hypothesis test we will use data on oral health that was collected by the [National Health and Nutrition Examination Survey](https://www.cdc.gov/nchs/nhanes/about_nhanes.htm). \n",
    "\n",
    "The data is stored in the filename `nhanes_oral_health.csv` within the `data/` directory of this repository. \n",
    "\n",
    "In the cell below\n",
    "* Read in the csv file.\n",
    "* Store the loaded data in the variable `dental`"
   ]
  },
  {
   "cell_type": "code",
   "execution_count": null,
   "id": "143fd219-0311-487a-8d42-bfcd8f1d492e",
   "metadata": {
    "index": 7
   },
   "outputs": [],
   "source": [
    "# Your code here"
   ]
  },
  {
   "cell_type": "code",
   "execution_count": null,
   "id": "4e657902-ff6b-458d-921b-f150e723862e",
   "metadata": {
    "index": 9
   },
   "outputs": [],
   "source": [
    "dental.head()"
   ]
  },
  {
   "cell_type": "markdown",
   "id": "f163e438-f765-4790-bf18-5c9a62f28715",
   "metadata": {
    "index": 11
   },
   "source": [
    "## Drop observations from a dataset"
   ]
  },
  {
   "cell_type": "markdown",
   "id": "547a84a1-9565-448b-a087-7cd7445be975",
   "metadata": {
    "index": 12
   },
   "source": [
    "The colums of interest for our first Hypothesis test will be `Gender` and `# times you brush your teeth in 1 day?`.\n",
    "\n",
    "In the cell below, plot a histrogram for the `# times you brush your teeth in 1 day?` column."
   ]
  },
  {
   "cell_type": "code",
   "execution_count": null,
   "id": "5b63445f-e932-4860-9568-47dd71a13a9b",
   "metadata": {
    "index": 13
   },
   "outputs": [],
   "source": [
    "dental.iloc[:,-1].hist()"
   ]
  },
  {
   "cell_type": "markdown",
   "id": "94980ab0-b8c8-485b-bc5a-b63617d870a2",
   "metadata": {
    "index": 14
   },
   "source": [
    "The data in this column appears to have some outliers near 100. If we reference the [Data Dictionary](https://wwwn.cdc.gov/Nchs/Nhanes/2017-2018/P_OHQ.htm#OHQ848Q), we can see that values greater than 9 represent either Null values or individuals who responded with \"Don't know\". In the cell below, drop rows where `# times you brush your teeth in 1 day?` is greater than 9."
   ]
  },
  {
   "cell_type": "code",
   "execution_count": null,
   "id": "dab69e40-ef0a-41a1-adb3-6e5b09868dd9",
   "metadata": {
    "index": 15
   },
   "outputs": [],
   "source": [
    "# Your code here"
   ]
  },
  {
   "cell_type": "markdown",
   "id": "d22fc506-7db8-45cc-b9f7-633334fea821",
   "metadata": {
    "index": 17
   },
   "source": [
    "In the cell below, replot the histrogram for `# times you brush your teeth in 1 day?`."
   ]
  },
  {
   "cell_type": "code",
   "execution_count": null,
   "id": "b695b229-0134-48b7-b856-915dad520f96",
   "metadata": {
    "index": 18
   },
   "outputs": [],
   "source": [
    "# Your code here"
   ]
  },
  {
   "cell_type": "markdown",
   "id": "fce1ad79-a9dd-4055-b8e6-9633cd1be4ae",
   "metadata": {
    "index": 20
   },
   "source": [
    "## Isolate two subsets of data in a pandas dataframe"
   ]
  },
  {
   "cell_type": "markdown",
   "id": "f3b832e2-8eb5-4462-87da-68b1009fec0a",
   "metadata": {
    "index": 21
   },
   "source": [
    "For our first test, we will compare the number of times an individual brushes their teeth according to their gender. \n",
    "\n",
    "In the cell below,\n",
    "\n",
    "* Isolate the `# times you brush your teeth in 1 day?` data for individuals who have a gender of `Male` and `Female`.\n",
    "* Store the `Male` data in a variable called `male_brush` and the `Female` data in a variable called `female_brush`."
   ]
  },
  {
   "cell_type": "code",
   "execution_count": null,
   "id": "e60d62ea-a787-475e-a873-2401a81ec66a",
   "metadata": {
    "index": 22
   },
   "outputs": [],
   "source": [
    "# Your code here"
   ]
  },
  {
   "cell_type": "markdown",
   "id": "9d65d127-782c-4aad-88ae-1a56817df0cd",
   "metadata": {
    "index": 24
   },
   "source": [
    "In the cell below, plot the means for `male_brush` and `female_brush` as a bar plot."
   ]
  },
  {
   "cell_type": "code",
   "execution_count": null,
   "id": "8579f586-1a6a-4991-8272-16e518cb7969",
   "metadata": {
    "index": 25
   },
   "outputs": [],
   "source": [
    "# Your code here"
   ]
  },
  {
   "cell_type": "markdown",
   "id": "6685f9cd-7373-4dfc-983e-7b5702cc1bc0",
   "metadata": {
    "index": 27
   },
   "source": [
    "## Write the hypotheses for a hypothesis test\n",
    "\n",
    "Looking at the visualization above, individuals with a gender of female appear to brush their teeth more times a day on average than individuals with a gender of male. Is this difference significant?\n",
    "\n",
    "In the cell below, \n",
    "\n",
    "* Identify whether a t-test for this question would be a one tail or two tail test.\n",
    "* Write the Null and Alternative Hypotheses. "
   ]
  },
  {
   "cell_type": "markdown",
   "id": "fa4da8b5-378f-4d27-92b0-470d373dd37e",
   "metadata": {
    "index": 28
   },
   "source": [
    "YOUR ANSWER HERE"
   ]
  },
  {
   "cell_type": "markdown",
   "id": "c0b363bc-5e85-4ae2-8f7a-ccc361547e39",
   "metadata": {
    "index": 29
   },
   "source": [
    "## Calculate the t statistic and p value for the two groups (mostly) from scratch"
   ]
  },
  {
   "cell_type": "markdown",
   "id": "32fc9fdb-0723-4031-92c2-fc6e2513ed08",
   "metadata": {
    "index": 30
   },
   "source": [
    "In this section, we will write two functions. \n",
    "\n",
    "- `ttest_s`\n",
    "    - This function should receive two arguments:\n",
    "        1. samp1\n",
    "            - A pandas series or numpy array containing the data for a sample\n",
    "        2. samp2\n",
    "            - A pandas series or numpy array containing the data for a sample\n",
    "    - This function should return:\n",
    "        - The `s` variable used in the ttest formula\n",
    "\n",
    "<br>  \n",
    "\n",
    "- `ttest`\n",
    "    - This function should receive two arguments:\n",
    "        1. samp1\n",
    "            - A pandas series or numpy array containing the data for a sample\n",
    "        2. samp2\n",
    "            - A pandas series or numpy array containing the data for a sample\n",
    "    - This function should return:\n",
    "        - A tuple with the following format `(t statistic, p value)`\n",
    "            \n",
    "        \n",
    "**Below is the formula for a two sample, independent t-test. This visual leaves out the *degrees of freedom* that is required for calculating the pvalue.**\n",
    "\n",
    "For this ttest:\n",
    "\n",
    "$degrees\\space of\\space freedom=SampleSize_1 + SampleSize_2 - 2$\n",
    "\n",
    "\n",
    "![](https://lh3.googleusercontent.com/proxy/BjvPty-ZDJcOBdjm5Neb53ToqHXoTPHcmEQJJA8h5Hh2nyOGEKxv5q0RrEvhQWWd3H_y3xfT3MQYZx0xlhesYxGVA-vbbLQbOWRMq-sR7JTbgGTruPa1EdmQiAnCavQm6PfNC9c3bQXiHww_)\n",
    "\n",
    "**Please complete the functions below. Comments have been provided to guide you through each step.**"
   ]
  },
  {
   "cell_type": "code",
   "execution_count": null,
   "id": "d18f9d78-1876-4789-9dee-9d4744caff74",
   "metadata": {
    "index": 31
   },
   "outputs": [],
   "source": [
    "def ttest_s(samp1, samp2):\n",
    "    # Subtract the mean from each observation in samp1\n",
    "    # Store these differences in a variable called `samp1_diff`\n",
    "    \n",
    "    ######### YOUR CODE HERE #########\n",
    "        \n",
    "    # Subtract the mean from each observation in samp2\n",
    "    # Store these differences in a variable called `samp2_diff`\n",
    "    \n",
    "    ######### YOUR CODE HERE #########\n",
    "\n",
    "    # Raise samp1_diff to the second power\n",
    "    # Store the result in the variable samp1_diff_sq\n",
    "    \n",
    "    ######### YOUR CODE HERE #########\n",
    "\n",
    "    # Raise samp2_diff to the second power\n",
    "    # Store the result in the variable samp2_diff_sq   \n",
    "    \n",
    "    ######### YOUR CODE HERE #########\n",
    "\n",
    "    # Find the sum of samp1_diff_sq and samp2_diff_sq\n",
    "    # Store the result in a variable called numerator\n",
    "    \n",
    "    ######### YOUR CODE HERE #########\n",
    "\n",
    "    # Add the sample size of both samples together and subtract two\n",
    "    # Store the result in a variable called denominator\n",
    "    \n",
    "    ######### YOUR CODE HERE #########\n",
    "\n",
    "    # Divide the numerator and denominator\n",
    "    # Store the result in a variable called s\n",
    "    \n",
    "    ######### YOUR CODE HERE #########\n",
    "\n",
    "    # Return s\n",
    "    \n",
    "    ######### YOUR CODE HERE #########\n",
    "    pass"
   ]
  },
  {
   "cell_type": "code",
   "execution_count": null,
   "id": "3b791ecd-f508-48be-acc3-c1519a3459c7",
   "metadata": {
    "index": 32
   },
   "outputs": [],
   "source": [
    "def ttest(samp1, samp2):\n",
    "    # Calculate the size of samp1\n",
    "    # Store the result in a variable called n1\n",
    "\n",
    "    ######### YOUR CODE HERE #########\n",
    "    \n",
    "    # Calculate the size of samp2\n",
    "    # Store the result in a variable called n2\n",
    "    \n",
    "    ######### YOUR CODE HERE #########\n",
    "    \n",
    "    # Find the sum of n1 and n2. Then subtract 2\n",
    "    # Store the result in a variable called df\n",
    "\n",
    "    ######### YOUR CODE HERE #########\n",
    "    \n",
    "    # Use the ttest_s function\n",
    "    # Store the output in a variable called s\n",
    "\n",
    "    ######### YOUR CODE HERE #########\n",
    "    \n",
    "    # Find the difference between the means of the two samples\n",
    "    # Store the result in a variable called numerator\n",
    "\n",
    "    ######### YOUR CODE HERE #########\n",
    "    \n",
    "    # Divide 1 by both sample sizes and add them together.\n",
    "    # Multiply the result by s and find the square root\n",
    "    # Store the result in a variable called denominator\n",
    "\n",
    "    ######### YOUR CODE HERE #########\n",
    "    \n",
    "    # Divide the numerator and denominator\n",
    "    # Store the result in a variable called t\n",
    "\n",
    "    ######### YOUR CODE HERE #########\n",
    "    \n",
    "    # Calculate the absolute value of t\n",
    "    # Store the result in a variable called t_abs\n",
    "\n",
    "    ######### YOUR CODE HERE #########\n",
    "    \n",
    "    # Find the one sided p value by using stats.t.sf\n",
    "    # By passing in t_abs and df\n",
    "    # Store the result in a variable called p_oneside\n",
    "    \n",
    "    ######### YOUR CODE HERE #########\n",
    "    \n",
    "    # Multiply p_oneside by 2\n",
    "    \n",
    "    ######### YOUR CODE HERE ######### \n",
    "    \n",
    "    # Store the result in a variable called p\n",
    "    # Return t and p\n",
    "\n",
    "    ######### YOUR CODE HERE #########"
   ]
  },
  {
   "cell_type": "markdown",
   "id": "aded3db5-d8f8-4b56-9e48-8f7db5db5537",
   "metadata": {
    "index": 34
   },
   "source": [
    "**Run the cell below to run your t-test!**"
   ]
  },
  {
   "cell_type": "code",
   "execution_count": null,
   "id": "43ce1033-28a3-4f14-a0f4-33a2defd882b",
   "metadata": {
    "index": 35
   },
   "outputs": [],
   "source": [
    "ttest(male_brush, female_brush)"
   ]
  },
  {
   "cell_type": "markdown",
   "id": "8e0a88dc-b37b-4ab9-b56e-93b547506a9a",
   "metadata": {
    "index": 37
   },
   "source": [
    "**Let's check our work by comparing out output to scipy's `ttest_ind`**"
   ]
  },
  {
   "cell_type": "code",
   "execution_count": null,
   "id": "e63487b1-5b73-4cb5-b280-b8678aeef0f9",
   "metadata": {
    "index": 38
   },
   "outputs": [],
   "source": [
    "stats.ttest_ind(male_brush, female_brush)"
   ]
  },
  {
   "cell_type": "markdown",
   "id": "3a21c3a8-ce26-46d7-b425-fdc45253b61f",
   "metadata": {
    "index": 40
   },
   "source": [
    "**Caution!**\n",
    "\n",
    "scipy, by default, calculates the *two sided* p value. If we are wanting to run a one tail test, we need to divide the p-value by 2."
   ]
  },
  {
   "cell_type": "markdown",
   "id": "d29f30bd-3db2-4d05-b352-b5859f90a026",
   "metadata": {
    "index": 41
   },
   "source": [
    "## Interpret the results\n",
    "\n",
    "Is our test result significant? Why or why not?"
   ]
  },
  {
   "cell_type": "markdown",
   "id": "4e5aea2d-e9e8-43a7-b49c-8c98d52d812f",
   "metadata": {
    "index": 42
   },
   "source": [
    "YOUR ANSWER HERE"
   ]
  },
  {
   "cell_type": "markdown",
   "id": "b3146978-538b-4e37-8412-3cb90dd508b4",
   "metadata": {
    "index": 43
   },
   "source": [
    "## Run some more tests!\n",
    "\n",
    "In the below section, we will run a few t-tests with a different nhanes dataset.\n",
    "\n",
    "For these tests we will use data on blood pressure that was collected by the [National Health and Nutrition Examination Survey](https://www.cdc.gov/nchs/nhanes/about_nhanes.htm). \n",
    "\n",
    "The data is stored in the filename `nhanes_blood_pressure.csv` within the `data/` directory of this repository. \n",
    "\n",
    "In the cell below, \n",
    "\n",
    "* Read in the blood pressure dataset\n",
    "* Store the loaded data in a variable called `bp`"
   ]
  },
  {
   "cell_type": "code",
   "execution_count": null,
   "id": "f52c534c-19b3-4cb0-aadf-30d961e9e08e",
   "metadata": {
    "index": 44
   },
   "outputs": [],
   "source": [
    "# Your code here"
   ]
  },
  {
   "cell_type": "code",
   "execution_count": null,
   "id": "88d1bad4-9de0-4434-8bfe-f3329ef834a1",
   "metadata": {
    "index": 46
   },
   "outputs": [],
   "source": [
    "bp.head()"
   ]
  },
  {
   "cell_type": "markdown",
   "id": "e8bce98d-73ed-4d3e-888c-f58cb131724c",
   "metadata": {
    "index": 48
   },
   "source": [
    "**The relevant columns for our tests will be:**\n",
    "* Gender\n",
    "* Race/Hispanic origin w/ NH Asian\n",
    "* Country of birth\n",
    "* Systolic - 1st oscillometric reading\n",
    "    - An individuals blood pressure measurement\n",
    "* Pulse - 1st oscillometric reading\n",
    "    - The rate of an individual's pulse"
   ]
  },
  {
   "cell_type": "markdown",
   "id": "824e6718-0329-4821-8eb5-fc2bcf9f600d",
   "metadata": {
    "index": 49
   },
   "source": [
    "**Following this cell, no further guidance will be provided.** \n",
    "\n",
    "- *It is up to you to decide whether or not a test should be one-tailed or two-tailed. Please use as many cells as you would like to run the following tests.*\n",
    "- *You can choose to calculate the t and p values manually, or you may use scipy.*\n",
    "- *Be sure to interpret the results of your tests*\n",
    "\n",
    "\n",
    "**Test 1**\n",
    "\n",
    "- Isolate the blood pressure for individals with a gender of `Male` and `Female`\n",
    "- Test for a significant difference.\n",
    "\n",
    "**Test 2**\n",
    "\n",
    "- Isolate the pulse for individals with a race of `Non-Hispanic Black` and `Non-Hispanic White`.\n",
    "- Test for a significant difference.\n",
    "\n",
    "**Test 3**\n",
    "\n",
    "- Isolate the blood pressure for individals with a Country of birth of `USA` and `Other`.\n",
    "- Test for a significant difference."
   ]
  }
 ],
 "metadata": {
  "kernelspec": {
   "display_name": "Python 3",
   "language": "python",
   "name": "python3"
  },
  "language_info": {
   "codemirror_mode": {
    "name": "ipython",
    "version": 3
   },
   "file_extension": ".py",
   "mimetype": "text/x-python",
   "name": "python",
   "nbconvert_exporter": "python",
   "pygments_lexer": "ipython3",
   "version": "3.7.4"
  }
 },
 "nbformat": 4,
 "nbformat_minor": 5
}
