{
 "cells": [
  {
   "cell_type": "markdown",
   "id": "255afeed-0159-440f-bb12-6c3d4d6622d3",
   "metadata": {},
   "source": [
    "# Hypothesis Testing Practice\n",
    "\n",
    "In this notebook we will practice running hypothesis tests, and interpreting the results.\n",
    "\n",
    "Specifically, we will\n",
    "\n",
    "* Import the necessary python packages\n",
    "* Read in a csv file using pandas\n",
    "* Drop observations from a dataset\n",
    "* Isolate two subsets of data in a pandas dataframe\n",
    "* Write the hypotheses for a hypothesis test\n",
    "* Calculate the t statistic and p value for the two groups (mostly) from scratch\n",
    "* Interpret the results\n",
    "* Run a ttest with the `scipy.stats` module"
   ]
  },
  {
   "cell_type": "markdown",
   "id": "be30aef7-4b4e-419a-974a-3b5fbb08c540",
   "metadata": {},
   "source": [
    "## Import the necessary python packages"
   ]
  },
  {
   "cell_type": "markdown",
   "id": "1fad3b86-6903-4ff7-a288-22f1100c8c78",
   "metadata": {},
   "source": [
    "First let's import the packages we will need. In the cell below, import:\n",
    "\n",
    "1. pandas using the standard alias\n",
    "2. numpy using the standard alias\n",
    "3. The scipy stats module\n",
    "4. The pyplot module from matplotlib"
   ]
  },
  {
   "cell_type": "code",
   "execution_count": null,
   "id": "5c33bf7d-9b57-452e-b5d2-1c2900bcab22",
   "metadata": {},
   "outputs": [],
   "source": [
    "# Your code here"
   ]
  },
  {
   "cell_type": "code",
   "execution_count": 3,
   "id": "478f11d6-ce9f-4e42-88ef-ed5606d37c80",
   "metadata": {},
   "outputs": [],
   "source": [
    "#__SOLUTION__\n",
    "import pandas as pd\n",
    "import numpy as np\n",
    "from scipy import stats\n",
    "import matplotlib.pyplot as plt"
   ]
  },
  {
   "cell_type": "markdown",
   "id": "f660ac64-d48f-43e8-99a8-c6db774b044f",
   "metadata": {},
   "source": [
    "## Read in a csv file using pandas"
   ]
  },
  {
   "cell_type": "markdown",
   "id": "8f909fb9-2819-4b34-8ac1-81cb24f8f35f",
   "metadata": {},
   "source": [
    "For our first hypothesis test we will use data on oral health that was collected by the [National Health and Nutrition Examination Survey](https://www.cdc.gov/nchs/nhanes/about_nhanes.htm). \n",
    "\n",
    "The data is stored in the filename `nhanes_oral_health.csv` within the `data/` directory of this repository. \n",
    "\n",
    "In the cell below\n",
    "* Read in the csv file.\n",
    "* Store the loaded data in the variable `dental`"
   ]
  },
  {
   "cell_type": "code",
   "execution_count": null,
   "id": "143fd219-0311-487a-8d42-bfcd8f1d492e",
   "metadata": {},
   "outputs": [],
   "source": [
    "# Your code here"
   ]
  },
  {
   "cell_type": "code",
   "execution_count": 4,
   "id": "9220699b-c503-402b-abed-fea6be6a8dda",
   "metadata": {},
   "outputs": [],
   "source": [
    "#__SOLUTION__\n",
    "dental = pd.read_csv('data/nhanes_oral_health.csv')"
   ]
  },
  {
   "cell_type": "code",
   "execution_count": 5,
   "id": "4e657902-ff6b-458d-921b-f150e723862e",
   "metadata": {},
   "outputs": [
    {
     "data": {
      "text/html": [
       "<div>\n",
       "<style scoped>\n",
       "    .dataframe tbody tr th:only-of-type {\n",
       "        vertical-align: middle;\n",
       "    }\n",
       "\n",
       "    .dataframe tbody tr th {\n",
       "        vertical-align: top;\n",
       "    }\n",
       "\n",
       "    .dataframe thead th {\n",
       "        text-align: right;\n",
       "    }\n",
       "</style>\n",
       "<table border=\"1\" class=\"dataframe\">\n",
       "  <thead>\n",
       "    <tr style=\"text-align: right;\">\n",
       "      <th></th>\n",
       "      <th>SEQN</th>\n",
       "      <th>Gender</th>\n",
       "      <th>Age in years at screening</th>\n",
       "      <th>Race/Hispanic origin</th>\n",
       "      <th>Race/Hispanic origin w/ NH Asian</th>\n",
       "      <th>Country of birth</th>\n",
       "      <th>When did you last visit a dentist</th>\n",
       "      <th>Rate the health of your teeth and gums</th>\n",
       "      <th># times you brush your teeth in 1 day?</th>\n",
       "    </tr>\n",
       "  </thead>\n",
       "  <tbody>\n",
       "    <tr>\n",
       "      <th>0</th>\n",
       "      <td>109264.0</td>\n",
       "      <td>Female</td>\n",
       "      <td>13.0</td>\n",
       "      <td>1.0</td>\n",
       "      <td>Mexican American</td>\n",
       "      <td>USA</td>\n",
       "      <td>6 months or less</td>\n",
       "      <td>Good</td>\n",
       "      <td>2.0</td>\n",
       "    </tr>\n",
       "    <tr>\n",
       "      <th>1</th>\n",
       "      <td>109268.0</td>\n",
       "      <td>Female</td>\n",
       "      <td>18.0</td>\n",
       "      <td>3.0</td>\n",
       "      <td>Non-Hispanic White</td>\n",
       "      <td>USA</td>\n",
       "      <td>More than 6 months, but not more than 1 year ago</td>\n",
       "      <td>Very good</td>\n",
       "      <td>1.0</td>\n",
       "    </tr>\n",
       "    <tr>\n",
       "      <th>2</th>\n",
       "      <td>109270.0</td>\n",
       "      <td>Female</td>\n",
       "      <td>11.0</td>\n",
       "      <td>4.0</td>\n",
       "      <td>Non-Hispanic Black</td>\n",
       "      <td>USA</td>\n",
       "      <td>6 months or less</td>\n",
       "      <td>Excellent</td>\n",
       "      <td>2.0</td>\n",
       "    </tr>\n",
       "    <tr>\n",
       "      <th>3</th>\n",
       "      <td>109275.0</td>\n",
       "      <td>Male</td>\n",
       "      <td>6.0</td>\n",
       "      <td>3.0</td>\n",
       "      <td>Non-Hispanic White</td>\n",
       "      <td>USA</td>\n",
       "      <td>6 months or less</td>\n",
       "      <td>Excellent</td>\n",
       "      <td>2.0</td>\n",
       "    </tr>\n",
       "    <tr>\n",
       "      <th>4</th>\n",
       "      <td>109277.0</td>\n",
       "      <td>Female</td>\n",
       "      <td>12.0</td>\n",
       "      <td>1.0</td>\n",
       "      <td>Mexican American</td>\n",
       "      <td>USA</td>\n",
       "      <td>6 months or less</td>\n",
       "      <td>Fair</td>\n",
       "      <td>2.0</td>\n",
       "    </tr>\n",
       "  </tbody>\n",
       "</table>\n",
       "</div>"
      ],
      "text/plain": [
       "       SEQN  Gender  Age in years at screening  Race/Hispanic origin  \\\n",
       "0  109264.0  Female                       13.0                   1.0   \n",
       "1  109268.0  Female                       18.0                   3.0   \n",
       "2  109270.0  Female                       11.0                   4.0   \n",
       "3  109275.0    Male                        6.0                   3.0   \n",
       "4  109277.0  Female                       12.0                   1.0   \n",
       "\n",
       "  Race/Hispanic origin w/ NH Asian Country of birth  \\\n",
       "0                 Mexican American              USA   \n",
       "1               Non-Hispanic White              USA   \n",
       "2               Non-Hispanic Black              USA   \n",
       "3               Non-Hispanic White              USA   \n",
       "4                 Mexican American              USA   \n",
       "\n",
       "                  When did you last visit a dentist  \\\n",
       "0                                  6 months or less   \n",
       "1  More than 6 months, but not more than 1 year ago   \n",
       "2                                  6 months or less   \n",
       "3                                  6 months or less   \n",
       "4                                  6 months or less   \n",
       "\n",
       "  Rate the health of your teeth and gums  \\\n",
       "0                                   Good   \n",
       "1                              Very good   \n",
       "2                              Excellent   \n",
       "3                              Excellent   \n",
       "4                                   Fair   \n",
       "\n",
       "   # times you brush your teeth in 1 day?  \n",
       "0                                     2.0  \n",
       "1                                     1.0  \n",
       "2                                     2.0  \n",
       "3                                     2.0  \n",
       "4                                     2.0  "
      ]
     },
     "execution_count": 5,
     "metadata": {},
     "output_type": "execute_result"
    }
   ],
   "source": [
    "dental.head()"
   ]
  },
  {
   "cell_type": "code",
   "execution_count": 6,
   "id": "c61fa48e-152e-4010-9464-81b16f650244",
   "metadata": {},
   "outputs": [
    {
     "data": {
      "text/html": [
       "<div>\n",
       "<style scoped>\n",
       "    .dataframe tbody tr th:only-of-type {\n",
       "        vertical-align: middle;\n",
       "    }\n",
       "\n",
       "    .dataframe tbody tr th {\n",
       "        vertical-align: top;\n",
       "    }\n",
       "\n",
       "    .dataframe thead th {\n",
       "        text-align: right;\n",
       "    }\n",
       "</style>\n",
       "<table border=\"1\" class=\"dataframe\">\n",
       "  <thead>\n",
       "    <tr style=\"text-align: right;\">\n",
       "      <th></th>\n",
       "      <th>SEQN</th>\n",
       "      <th>Gender</th>\n",
       "      <th>Age in years at screening</th>\n",
       "      <th>Race/Hispanic origin</th>\n",
       "      <th>Race/Hispanic origin w/ NH Asian</th>\n",
       "      <th>Country of birth</th>\n",
       "      <th>When did you last visit a dentist</th>\n",
       "      <th>Rate the health of your teeth and gums</th>\n",
       "      <th># times you brush your teeth in 1 day?</th>\n",
       "    </tr>\n",
       "  </thead>\n",
       "  <tbody>\n",
       "    <tr>\n",
       "      <th>0</th>\n",
       "      <td>109264.0</td>\n",
       "      <td>Female</td>\n",
       "      <td>13.0</td>\n",
       "      <td>1.0</td>\n",
       "      <td>Mexican American</td>\n",
       "      <td>USA</td>\n",
       "      <td>6 months or less</td>\n",
       "      <td>Good</td>\n",
       "      <td>2.0</td>\n",
       "    </tr>\n",
       "    <tr>\n",
       "      <th>1</th>\n",
       "      <td>109268.0</td>\n",
       "      <td>Female</td>\n",
       "      <td>18.0</td>\n",
       "      <td>3.0</td>\n",
       "      <td>Non-Hispanic White</td>\n",
       "      <td>USA</td>\n",
       "      <td>More than 6 months, but not more than 1 year ago</td>\n",
       "      <td>Very good</td>\n",
       "      <td>1.0</td>\n",
       "    </tr>\n",
       "    <tr>\n",
       "      <th>2</th>\n",
       "      <td>109270.0</td>\n",
       "      <td>Female</td>\n",
       "      <td>11.0</td>\n",
       "      <td>4.0</td>\n",
       "      <td>Non-Hispanic Black</td>\n",
       "      <td>USA</td>\n",
       "      <td>6 months or less</td>\n",
       "      <td>Excellent</td>\n",
       "      <td>2.0</td>\n",
       "    </tr>\n",
       "    <tr>\n",
       "      <th>3</th>\n",
       "      <td>109275.0</td>\n",
       "      <td>Male</td>\n",
       "      <td>6.0</td>\n",
       "      <td>3.0</td>\n",
       "      <td>Non-Hispanic White</td>\n",
       "      <td>USA</td>\n",
       "      <td>6 months or less</td>\n",
       "      <td>Excellent</td>\n",
       "      <td>2.0</td>\n",
       "    </tr>\n",
       "    <tr>\n",
       "      <th>4</th>\n",
       "      <td>109277.0</td>\n",
       "      <td>Female</td>\n",
       "      <td>12.0</td>\n",
       "      <td>1.0</td>\n",
       "      <td>Mexican American</td>\n",
       "      <td>USA</td>\n",
       "      <td>6 months or less</td>\n",
       "      <td>Fair</td>\n",
       "      <td>2.0</td>\n",
       "    </tr>\n",
       "  </tbody>\n",
       "</table>\n",
       "</div>"
      ],
      "text/plain": [
       "       SEQN  Gender  Age in years at screening  Race/Hispanic origin  \\\n",
       "0  109264.0  Female                       13.0                   1.0   \n",
       "1  109268.0  Female                       18.0                   3.0   \n",
       "2  109270.0  Female                       11.0                   4.0   \n",
       "3  109275.0    Male                        6.0                   3.0   \n",
       "4  109277.0  Female                       12.0                   1.0   \n",
       "\n",
       "  Race/Hispanic origin w/ NH Asian Country of birth  \\\n",
       "0                 Mexican American              USA   \n",
       "1               Non-Hispanic White              USA   \n",
       "2               Non-Hispanic Black              USA   \n",
       "3               Non-Hispanic White              USA   \n",
       "4                 Mexican American              USA   \n",
       "\n",
       "                  When did you last visit a dentist  \\\n",
       "0                                  6 months or less   \n",
       "1  More than 6 months, but not more than 1 year ago   \n",
       "2                                  6 months or less   \n",
       "3                                  6 months or less   \n",
       "4                                  6 months or less   \n",
       "\n",
       "  Rate the health of your teeth and gums  \\\n",
       "0                                   Good   \n",
       "1                              Very good   \n",
       "2                              Excellent   \n",
       "3                              Excellent   \n",
       "4                                   Fair   \n",
       "\n",
       "   # times you brush your teeth in 1 day?  \n",
       "0                                     2.0  \n",
       "1                                     1.0  \n",
       "2                                     2.0  \n",
       "3                                     2.0  \n",
       "4                                     2.0  "
      ]
     },
     "execution_count": 6,
     "metadata": {},
     "output_type": "execute_result"
    }
   ],
   "source": [
    "#__SOLUTUION__\n",
    "dental.head()"
   ]
  },
  {
   "cell_type": "markdown",
   "id": "f163e438-f765-4790-bf18-5c9a62f28715",
   "metadata": {},
   "source": [
    "## Drop observations from a dataset"
   ]
  },
  {
   "cell_type": "markdown",
   "id": "547a84a1-9565-448b-a087-7cd7445be975",
   "metadata": {},
   "source": [
    "The colums of interest for our first Hypothesis test will be `Gender` and `# times you brush your teeth in 1 day?`.\n",
    "\n",
    "In the cell below, plot a histrogram for the `# times you brush your teeth in 1 day?` column."
   ]
  },
  {
   "cell_type": "code",
   "execution_count": 7,
   "id": "5b63445f-e932-4860-9568-47dd71a13a9b",
   "metadata": {},
   "outputs": [
    {
     "data": {
      "text/plain": [
       "<AxesSubplot:>"
      ]
     },
     "execution_count": 7,
     "metadata": {},
     "output_type": "execute_result"
    },
    {
     "data": {
      "image/png": "[encoded data removed]",
      "text/plain": [
       "<Figure size 432x288 with 1 Axes>"
      ]
     },
     "metadata": {
      "needs_background": "light"
     },
     "output_type": "display_data"
    }
   ],
   "source": [
    "dental.iloc[:,-1].hist()"
   ]
  },
  {
   "cell_type": "markdown",
   "id": "94980ab0-b8c8-485b-bc5a-b63617d870a2",
   "metadata": {},
   "source": [
    "The data in this column appears to have some outliers near 100. If we reference the [Data Dictionary](https://wwwn.cdc.gov/Nchs/Nhanes/2017-2018/P_OHQ.htm#OHQ848Q), we can see that values greater than 9 represent either Null values or individuals who responded with \"Don't know\". In the cell below, drop rows where `# times you brush your teeth in 1 day?` is greater than 9."
   ]
  },
  {
   "cell_type": "code",
   "execution_count": 8,
   "id": "dab69e40-ef0a-41a1-adb3-6e5b09868dd9",
   "metadata": {},
   "outputs": [],
   "source": [
    "# Your code here"
   ]
  },
  {
   "cell_type": "code",
   "execution_count": 9,
   "id": "a240ca48-2ac4-461a-8634-ab8ab472d34c",
   "metadata": {},
   "outputs": [],
   "source": [
    "#__SOLUTION__\n",
    "dental = dental[dental['# times you brush your teeth in 1 day?'] <= 9]"
   ]
  },
  {
   "cell_type": "markdown",
   "id": "d22fc506-7db8-45cc-b9f7-633334fea821",
   "metadata": {},
   "source": [
    "In the cell below, replot the histrogram for `# times you brush your teeth in 1 day?`."
   ]
  },
  {
   "cell_type": "code",
   "execution_count": 10,
   "id": "b695b229-0134-48b7-b856-915dad520f96",
   "metadata": {},
   "outputs": [],
   "source": [
    "# Your code here"
   ]
  },
  {
   "cell_type": "code",
   "execution_count": 11,
   "id": "9453cdb6-5146-49b9-865c-2ab60638cf1f",
   "metadata": {},
   "outputs": [
    {
     "data": {
      "text/plain": [
       "<AxesSubplot:>"
      ]
     },
     "execution_count": 11,
     "metadata": {},
     "output_type": "execute_result"
    },
    {
     "data": {
      "image/png": "[encoded data removed]",
      "text/plain": [
       "<Figure size 432x288 with 1 Axes>"
      ]
     },
     "metadata": {
      "needs_background": "light"
     },
     "output_type": "display_data"
    }
   ],
   "source": [
    "#__SOLUTION__\n",
    "dental['# times you brush your teeth in 1 day?'].hist()"
   ]
  },
  {
   "cell_type": "markdown",
   "id": "fce1ad79-a9dd-4055-b8e6-9633cd1be4ae",
   "metadata": {},
   "source": [
    "## Isolate two subsets of data in a pandas dataframe"
   ]
  },
  {
   "cell_type": "markdown",
   "id": "f3b832e2-8eb5-4462-87da-68b1009fec0a",
   "metadata": {},
   "source": [
    "For our first test, we will compare the number of times an individual brushes their teeth according to their gender. \n",
    "\n",
    "In the cell below,\n",
    "\n",
    "* Isolate the `# times you brush your teeth in 1 day?` data for individuals who have a gender of `Male` and `Female`.\n",
    "* Store the `Male` data in a variable called `male_brush` and the `Female` data in a variable called `female_brush`."
   ]
  },
  {
   "cell_type": "code",
   "execution_count": 12,
   "id": "e60d62ea-a787-475e-a873-2401a81ec66a",
   "metadata": {},
   "outputs": [],
   "source": [
    "# Your code here"
   ]
  },
  {
   "cell_type": "code",
   "execution_count": 83,
   "id": "01303c90-4d08-41f8-8d6e-d837c79cf163",
   "metadata": {},
   "outputs": [],
   "source": [
    "#__SOLUTION__\n",
    "male_brush = dental[dental.Gender == 'Male']['# times you brush your teeth in 1 day?']\n",
    "female_brush = dental[dental.Gender == 'Female']['# times you brush your teeth in 1 day?']"
   ]
  },
  {
   "cell_type": "markdown",
   "id": "9d65d127-782c-4aad-88ae-1a56817df0cd",
   "metadata": {},
   "source": [
    "In the cell below, plot the means for `male_brush` and `female_brush` as a bar plot."
   ]
  },
  {
   "cell_type": "code",
   "execution_count": 14,
   "id": "8579f586-1a6a-4991-8272-16e518cb7969",
   "metadata": {},
   "outputs": [],
   "source": [
    "# Your code here"
   ]
  },
  {
   "cell_type": "code",
   "execution_count": 84,
   "id": "c286de81-e644-4bc0-976a-54ab58cf1b40",
   "metadata": {},
   "outputs": [
    {
     "data": {
      "image/png": "[encoded data removed]",
      "text/plain": [
       "<Figure size 432x288 with 1 Axes>"
      ]
     },
     "metadata": {
      "needs_background": "light"
     },
     "output_type": "display_data"
    }
   ],
   "source": [
    "#__SOLUTION__\n",
    "plt.bar(['Male', 'Female'], [male_brush.mean(), female_brush.mean()]);"
   ]
  },
  {
   "cell_type": "markdown",
   "id": "6685f9cd-7373-4dfc-983e-7b5702cc1bc0",
   "metadata": {},
   "source": [
    "## Write the hypotheses for a hypothesis test\n",
    "\n",
    "Looking at the visualization above, individuals with a gender of female appear to brush their teeth more times a day on average than individuals with a gender of male. Is this difference significant?\n",
    "\n",
    "In the cell below, \n",
    "\n",
    "* Identify whether a t-test for this question would be a one tail or two tail test.\n",
    "* Write the Null and Alternative Hypotheses. "
   ]
  },
  {
   "cell_type": "markdown",
   "id": "fa4da8b5-378f-4d27-92b0-470d373dd37e",
   "metadata": {},
   "source": [
    "YOUR ANSWER HERE"
   ]
  },
  {
   "cell_type": "markdown",
   "id": "c0b363bc-5e85-4ae2-8f7a-ccc361547e39",
   "metadata": {},
   "source": [
    "## Calculate the t statistic and p value for the two groups (mostly) from scratch"
   ]
  },
  {
   "cell_type": "markdown",
   "id": "32fc9fdb-0723-4031-92c2-fc6e2513ed08",
   "metadata": {},
   "source": [
    "In this section, we will write two functions. \n",
    "\n",
    "- `ttest_s`\n",
    "    - This function should receive two arguments:\n",
    "        1. samp1\n",
    "            - A pandas series or numpy array containing the data for a sample\n",
    "        2. samp2\n",
    "            - A pandas series or numpy array containing the data for a sample\n",
    "    - This function should return:\n",
    "        - The `s` variable used in the ttest formula\n",
    "\n",
    "<br>  \n",
    "\n",
    "- `ttest`\n",
    "    - This function should receive two arguments:\n",
    "        1. samp1\n",
    "            - A pandas series or numpy array containing the data for a sample\n",
    "        2. samp2\n",
    "            - A pandas series or numpy array containing the data for a sample\n",
    "    - This function should return:\n",
    "        - A tuple with the following format `(t statistic, p value)`\n",
    "            \n",
    "        \n",
    "**Below is the formula for a two sample, independent t-test. This visual leaves out the *degrees of freedom* that is required for calculating the pvalue.**\n",
    "\n",
    "For this ttest:\n",
    "\n",
    "$degrees\\space of\\space freedom=SampleSize_1 + SampleSize_2 - 2$\n",
    "\n",
    "\n",
    "![](https://lh3.googleusercontent.com/proxy/BjvPty-ZDJcOBdjm5Neb53ToqHXoTPHcmEQJJA8h5Hh2nyOGEKxv5q0RrEvhQWWd3H_y3xfT3MQYZx0xlhesYxGVA-vbbLQbOWRMq-sR7JTbgGTruPa1EdmQiAnCavQm6PfNC9c3bQXiHww_)\n",
    "\n",
    "**Please complete the functions below. Comments have been provided to guide you through each step.**"
   ]
  },
  {
   "cell_type": "code",
   "execution_count": 19,
   "id": "d18f9d78-1876-4789-9dee-9d4744caff74",
   "metadata": {},
   "outputs": [],
   "source": [
    "def ttest_s(samp1, samp2):\n",
    "    # Subtract the mean from each observation in samp1\n",
    "    # Store these differences in a variable called `samp1_diff`\n",
    "    \n",
    "    ######### YOUR CODE HERE #########\n",
    "        \n",
    "    # Subtract the mean from each observation in samp2\n",
    "    # Store these differences in a variable called `samp2_diff`\n",
    "    \n",
    "    ######### YOUR CODE HERE #########\n",
    "\n",
    "    # Raise samp1_diff to the second power\n",
    "    # Store the result in the variable samp1_diff_sq\n",
    "    \n",
    "    ######### YOUR CODE HERE #########\n",
    "\n",
    "    # Raise samp2_diff to the second power\n",
    "    # Store the result in the variable samp2_diff_sq   \n",
    "    \n",
    "    ######### YOUR CODE HERE #########\n",
    "\n",
    "    # Find the sum of samp1_diff_sq and samp2_diff_sq\n",
    "    # Store the result in a variable called numerator\n",
    "    \n",
    "    ######### YOUR CODE HERE #########\n",
    "\n",
    "    # Add the sample size of both samples together and subtract two\n",
    "    # Store the result in a variable called denominator\n",
    "    \n",
    "    ######### YOUR CODE HERE #########\n",
    "\n",
    "    # Divide the numerator and denominator\n",
    "    # Store the result in a variable called s\n",
    "    \n",
    "    ######### YOUR CODE HERE #########\n",
    "\n",
    "    # Return s\n",
    "    \n",
    "    ######### YOUR CODE HERE #########\n",
    "    pass"
   ]
  },
  {
   "cell_type": "code",
   "execution_count": 18,
   "id": "3b791ecd-f508-48be-acc3-c1519a3459c7",
   "metadata": {},
   "outputs": [],
   "source": [
    "def ttest(samp1, samp2):\n",
    "    # Calculate the size of samp1\n",
    "    # Store the result in a variable called n1\n",
    "\n",
    "    ######### YOUR CODE HERE #########\n",
    "    \n",
    "    # Calculate the size of samp2\n",
    "    # Store the result in a variable called n2\n",
    "    \n",
    "    ######### YOUR CODE HERE #########\n",
    "    \n",
    "    # Find the sum of n1 and n2. Then subtract 2\n",
    "    # Store the result in a variable called df\n",
    "\n",
    "    ######### YOUR CODE HERE #########\n",
    "    \n",
    "    # Use the ttest_s function\n",
    "    # Store the output in a variable called s\n",
    "\n",
    "    ######### YOUR CODE HERE #########\n",
    "    \n",
    "    # Find the difference between the means of the two samples\n",
    "    # Store the result in a variable called numerator\n",
    "\n",
    "    ######### YOUR CODE HERE #########\n",
    "    \n",
    "    # Divide 1 by both sample sizes and add them together.\n",
    "    # Multiply the result by s and find the square root\n",
    "    # Store the result in a variable called denominator\n",
    "\n",
    "    ######### YOUR CODE HERE #########\n",
    "    \n",
    "    # Divide the numerator and denominator\n",
    "    # Store the result in a variable called t\n",
    "\n",
    "    ######### YOUR CODE HERE #########\n",
    "    \n",
    "    # Calculate the absolute value of t\n",
    "    # Store the result in a variable called t_abs\n",
    "\n",
    "    ######### YOUR CODE HERE #########\n",
    "    \n",
    "    # Find the one sided p value by using stats.t.sf\n",
    "    # By passing in t_abs and df\n",
    "    # Store the result in a variable called p_oneside\n",
    "    \n",
    "    ######### YOUR CODE HERE #########\n",
    "    \n",
    "    # Multiply p_oneside by 2\n",
    "    \n",
    "    ######### YOUR CODE HERE ######### \n",
    "    \n",
    "    # Store the result in a variable called p\n",
    "    # Return t and p\n",
    "\n",
    "    ######### YOUR CODE HERE #########"
   ]
  },
  {
   "cell_type": "code",
   "execution_count": 69,
   "id": "68fbb223-ac14-41df-b5bc-4b38fd16ebd0",
   "metadata": {},
   "outputs": [],
   "source": [
    "#__SOLUTION__\n",
    "def ttest_s(samp1, samp2):\n",
    "    # Subtract the mean from each observation in samp1\n",
    "    # Store these differences in a variable called `samp1_diff`\n",
    "    samp1_diff = samp1 - samp1.mean()\n",
    "    # Subtract the mean from each observation in samp2\n",
    "    # Store these differences in a variable called `samp2_diff`\n",
    "    samp2_diff = samp2 - samp2.mean()\n",
    "    # Raise samp1_diff to the second power\n",
    "    # Store the result in the variable samp1_diff_sq\n",
    "    samp1_diff_sq = (samp1_diff ** 2).sum()\n",
    "    # Raise samp2_diff to the second power\n",
    "    # Store the result in the variable samp2_diff_sq   \n",
    "    samp2_diff_sq = (samp2_diff ** 2  ).sum()\n",
    "    # Find the sum of samp1_diff_sq and samp2_diff_sq\n",
    "    # Store the result in a variable called numerator\n",
    "    numerator = (samp1_diff_sq + samp2_diff_sq)\n",
    "    # Add the sample size of both samples together and subtract two\n",
    "    # Store the result in a variable called denominator\n",
    "    denominator = samp1.shape[0] + samp2.shape[0] - 2\n",
    "    # Divide the numerator and denominator\n",
    "    # Store the result in a variable called s\n",
    "    s = numerator/denominator\n",
    "    # Return s\n",
    "    return s\n",
    "\n",
    "def ttest(samp1, samp2):\n",
    "    # Calculate the size of samp1\n",
    "    # Store the result in a variable called n1\n",
    "    n1 = samp1.shape[0]\n",
    "    # Calculate the size of samp2\n",
    "    # Store the result in a variable called n2\n",
    "    n2 = samp2.shape[0]\n",
    "    # Find the sum of n1 and n2. Then subtract 2\n",
    "    # Store the result in a variable called df\n",
    "    df = n1 + n2 - 2\n",
    "    # Use the ttest_s function\n",
    "    # Store the output in a variable called s\n",
    "    s = ttest_s(samp1, samp2)\n",
    "    # Find the difference between the means of the two samples\n",
    "    # Store the result in a variable called numerator\n",
    "    numerator = samp1.mean() - samp2.mean()\n",
    "    # Divide 1 by both sample sizes and add them together.\n",
    "    # Multiply the result by s and find the square root\n",
    "    # Store the result in a variable called denominator\n",
    "    denominator = np.sqrt(s * (1/n1 + 1/n2))\n",
    "    # Divide the numerator and denominator\n",
    "    # Store the result in a variable called t\n",
    "    t = numerator/denominator\n",
    "    # Calculate the absolute value of t\n",
    "    # Store the result in a variable called t_abs\n",
    "    t_abs = abs(t)\n",
    "    # Find the one sided p value by using stats.t.sf\n",
    "    # By passing in t_abs and df\n",
    "    # Store the result in a variable called p_oneside\n",
    "    p_oneside = stats.t.sf(t_abs, df)\n",
    "    # Multiply p_oneside by 2\n",
    "    p = p_oneside * 2\n",
    "    # Store the result in a variable called p\n",
    "    # Return t and p\n",
    "    return t, p"
   ]
  },
  {
   "cell_type": "markdown",
   "id": "aded3db5-d8f8-4b56-9e48-8f7db5db5537",
   "metadata": {},
   "source": [
    "**Run the cell below to run your t-test!**"
   ]
  },
  {
   "cell_type": "code",
   "execution_count": 79,
   "id": "43ce1033-28a3-4f14-a0f4-33a2defd882b",
   "metadata": {},
   "outputs": [
    {
     "data": {
      "text/plain": [
       "(-4.91483791960319, 9.179888912714235e-07)"
      ]
     },
     "execution_count": 79,
     "metadata": {},
     "output_type": "execute_result"
    }
   ],
   "source": [
    "ttest(male_brush, female_brush)"
   ]
  },
  {
   "cell_type": "code",
   "execution_count": 85,
   "id": "a891a784-67ba-4f35-b524-cfc693a4b1d2",
   "metadata": {},
   "outputs": [
    {
     "data": {
      "text/plain": [
       "(-4.91483791960319, 9.179888912714235e-07)"
      ]
     },
     "execution_count": 85,
     "metadata": {},
     "output_type": "execute_result"
    }
   ],
   "source": [
    "#__SOLUTION__\n",
    "ttest(male_brush, female_brush)"
   ]
  },
  {
   "cell_type": "markdown",
   "id": "8e0a88dc-b37b-4ab9-b56e-93b547506a9a",
   "metadata": {},
   "source": [
    "**Let's check our work by comparing out output to scipy's `ttest_ind`**"
   ]
  },
  {
   "cell_type": "code",
   "execution_count": 76,
   "id": "e63487b1-5b73-4cb5-b280-b8678aeef0f9",
   "metadata": {},
   "outputs": [
    {
     "data": {
      "text/plain": [
       "Ttest_indResult(statistic=-4.91483791960319, pvalue=9.179888912714235e-07)"
      ]
     },
     "execution_count": 76,
     "metadata": {},
     "output_type": "execute_result"
    }
   ],
   "source": [
    "stats.ttest_ind(male_brush, female_brush)"
   ]
  },
  {
   "cell_type": "code",
   "execution_count": 86,
   "id": "af49ef6f-f573-4485-8d04-3713bd910eaf",
   "metadata": {},
   "outputs": [
    {
     "data": {
      "text/plain": [
       "Ttest_indResult(statistic=-4.91483791960319, pvalue=9.179888912714235e-07)"
      ]
     },
     "execution_count": 86,
     "metadata": {},
     "output_type": "execute_result"
    }
   ],
   "source": [
    "#__SOLUTION__\n",
    "stats.ttest_ind(male_brush, female_brush)"
   ]
  },
  {
   "cell_type": "markdown",
   "id": "3a21c3a8-ce26-46d7-b425-fdc45253b61f",
   "metadata": {},
   "source": [
    "**Caution!**\n",
    "\n",
    "scipy, by default, calculated the *two sided* p value. If we are wanting to run a one tail test, we need to divide the p-value by 2."
   ]
  },
  {
   "cell_type": "markdown",
   "id": "d29f30bd-3db2-4d05-b352-b5859f90a026",
   "metadata": {},
   "source": [
    "## Interpret the results\n",
    "\n",
    "Is our test result significant? Why or why not?"
   ]
  },
  {
   "cell_type": "markdown",
   "id": "4e5aea2d-e9e8-43a7-b49c-8c98d52d812f",
   "metadata": {},
   "source": [
    "YOUR ANSWER HERE"
   ]
  },
  {
   "cell_type": "markdown",
   "id": "b3146978-538b-4e37-8412-3cb90dd508b4",
   "metadata": {},
   "source": [
    "## Run some more tests!\n",
    "\n",
    "In the below section, we will run a few t-tests with a different nhanes dataset.\n",
    "\n",
    "For these tests we will use data on blood pressure that was collected by the [National Health and Nutrition Examination Survey](https://www.cdc.gov/nchs/nhanes/about_nhanes.htm). \n",
    "\n",
    "The data is stored in the filename `nhanes_blood_pressure.csv` within the `data/` directory of this repository. \n",
    "\n",
    "In the cell below, \n",
    "\n",
    "* Read in the blood pressure dataset\n",
    "* Store the loaded data in a variable called `bp`"
   ]
  },
  {
   "cell_type": "code",
   "execution_count": 24,
   "id": "f52c534c-19b3-4cb0-aadf-30d961e9e08e",
   "metadata": {},
   "outputs": [],
   "source": [
    "# Your code here"
   ]
  },
  {
   "cell_type": "code",
   "execution_count": 87,
   "id": "11c5bb05-0906-41fb-a2a6-dcb5a7831c85",
   "metadata": {},
   "outputs": [],
   "source": [
    "#__SOLUTION__\n",
    "bp = pd.read_csv('data/nhanes_blood_pressure.csv')"
   ]
  },
  {
   "cell_type": "code",
   "execution_count": 89,
   "id": "88d1bad4-9de0-4434-8bfe-f3329ef834a1",
   "metadata": {},
   "outputs": [
    {
     "data": {
      "text/html": [
       "<div>\n",
       "<style scoped>\n",
       "    .dataframe tbody tr th:only-of-type {\n",
       "        vertical-align: middle;\n",
       "    }\n",
       "\n",
       "    .dataframe tbody tr th {\n",
       "        vertical-align: top;\n",
       "    }\n",
       "\n",
       "    .dataframe thead th {\n",
       "        text-align: right;\n",
       "    }\n",
       "</style>\n",
       "<table border=\"1\" class=\"dataframe\">\n",
       "  <thead>\n",
       "    <tr style=\"text-align: right;\">\n",
       "      <th></th>\n",
       "      <th>SEQN</th>\n",
       "      <th>Gender</th>\n",
       "      <th>Age in years at screening</th>\n",
       "      <th>Race/Hispanic origin</th>\n",
       "      <th>Race/Hispanic origin w/ NH Asian</th>\n",
       "      <th>Country of birth</th>\n",
       "      <th>Arm selected - oscillometric</th>\n",
       "      <th>Systolic - 1st oscillometric reading</th>\n",
       "      <th>Pulse - 1st oscillometric reading</th>\n",
       "    </tr>\n",
       "  </thead>\n",
       "  <tbody>\n",
       "    <tr>\n",
       "      <th>0</th>\n",
       "      <td>109264.0</td>\n",
       "      <td>Female</td>\n",
       "      <td>13.0</td>\n",
       "      <td>1.0</td>\n",
       "      <td>Mexican American</td>\n",
       "      <td>USA</td>\n",
       "      <td>R</td>\n",
       "      <td>109.0</td>\n",
       "      <td>94.0</td>\n",
       "    </tr>\n",
       "    <tr>\n",
       "      <th>1</th>\n",
       "      <td>109266.0</td>\n",
       "      <td>Female</td>\n",
       "      <td>29.0</td>\n",
       "      <td>5.0</td>\n",
       "      <td>Non-Hispanic Asian</td>\n",
       "      <td>Other</td>\n",
       "      <td>R</td>\n",
       "      <td>99.0</td>\n",
       "      <td>68.0</td>\n",
       "    </tr>\n",
       "    <tr>\n",
       "      <th>2</th>\n",
       "      <td>109270.0</td>\n",
       "      <td>Female</td>\n",
       "      <td>11.0</td>\n",
       "      <td>4.0</td>\n",
       "      <td>Non-Hispanic Black</td>\n",
       "      <td>USA</td>\n",
       "      <td>R</td>\n",
       "      <td>123.0</td>\n",
       "      <td>95.0</td>\n",
       "    </tr>\n",
       "    <tr>\n",
       "      <th>3</th>\n",
       "      <td>109271.0</td>\n",
       "      <td>Male</td>\n",
       "      <td>49.0</td>\n",
       "      <td>3.0</td>\n",
       "      <td>Non-Hispanic White</td>\n",
       "      <td>USA</td>\n",
       "      <td>R</td>\n",
       "      <td>102.0</td>\n",
       "      <td>73.0</td>\n",
       "    </tr>\n",
       "    <tr>\n",
       "      <th>4</th>\n",
       "      <td>109273.0</td>\n",
       "      <td>Male</td>\n",
       "      <td>36.0</td>\n",
       "      <td>3.0</td>\n",
       "      <td>Non-Hispanic White</td>\n",
       "      <td>USA</td>\n",
       "      <td>R</td>\n",
       "      <td>116.0</td>\n",
       "      <td>71.0</td>\n",
       "    </tr>\n",
       "  </tbody>\n",
       "</table>\n",
       "</div>"
      ],
      "text/plain": [
       "       SEQN  Gender  Age in years at screening  Race/Hispanic origin  \\\n",
       "0  109264.0  Female                       13.0                   1.0   \n",
       "1  109266.0  Female                       29.0                   5.0   \n",
       "2  109270.0  Female                       11.0                   4.0   \n",
       "3  109271.0    Male                       49.0                   3.0   \n",
       "4  109273.0    Male                       36.0                   3.0   \n",
       "\n",
       "  Race/Hispanic origin w/ NH Asian Country of birth  \\\n",
       "0                 Mexican American              USA   \n",
       "1               Non-Hispanic Asian            Other   \n",
       "2               Non-Hispanic Black              USA   \n",
       "3               Non-Hispanic White              USA   \n",
       "4               Non-Hispanic White              USA   \n",
       "\n",
       "  Arm selected - oscillometric  Systolic - 1st oscillometric reading  \\\n",
       "0                            R                                 109.0   \n",
       "1                            R                                  99.0   \n",
       "2                            R                                 123.0   \n",
       "3                            R                                 102.0   \n",
       "4                            R                                 116.0   \n",
       "\n",
       "   Pulse - 1st oscillometric reading  \n",
       "0                               94.0  \n",
       "1                               68.0  \n",
       "2                               95.0  \n",
       "3                               73.0  \n",
       "4                               71.0  "
      ]
     },
     "execution_count": 89,
     "metadata": {},
     "output_type": "execute_result"
    }
   ],
   "source": [
    "bp.head()"
   ]
  },
  {
   "cell_type": "code",
   "execution_count": 90,
   "id": "8df5bca7-8046-4edb-8614-6189e54199e1",
   "metadata": {},
   "outputs": [
    {
     "data": {
      "text/html": [
       "<div>\n",
       "<style scoped>\n",
       "    .dataframe tbody tr th:only-of-type {\n",
       "        vertical-align: middle;\n",
       "    }\n",
       "\n",
       "    .dataframe tbody tr th {\n",
       "        vertical-align: top;\n",
       "    }\n",
       "\n",
       "    .dataframe thead th {\n",
       "        text-align: right;\n",
       "    }\n",
       "</style>\n",
       "<table border=\"1\" class=\"dataframe\">\n",
       "  <thead>\n",
       "    <tr style=\"text-align: right;\">\n",
       "      <th></th>\n",
       "      <th>SEQN</th>\n",
       "      <th>Gender</th>\n",
       "      <th>Age in years at screening</th>\n",
       "      <th>Race/Hispanic origin</th>\n",
       "      <th>Race/Hispanic origin w/ NH Asian</th>\n",
       "      <th>Country of birth</th>\n",
       "      <th>Arm selected - oscillometric</th>\n",
       "      <th>Systolic - 1st oscillometric reading</th>\n",
       "      <th>Pulse - 1st oscillometric reading</th>\n",
       "    </tr>\n",
       "  </thead>\n",
       "  <tbody>\n",
       "    <tr>\n",
       "      <th>0</th>\n",
       "      <td>109264.0</td>\n",
       "      <td>Female</td>\n",
       "      <td>13.0</td>\n",
       "      <td>1.0</td>\n",
       "      <td>Mexican American</td>\n",
       "      <td>USA</td>\n",
       "      <td>R</td>\n",
       "      <td>109.0</td>\n",
       "      <td>94.0</td>\n",
       "    </tr>\n",
       "    <tr>\n",
       "      <th>1</th>\n",
       "      <td>109266.0</td>\n",
       "      <td>Female</td>\n",
       "      <td>29.0</td>\n",
       "      <td>5.0</td>\n",
       "      <td>Non-Hispanic Asian</td>\n",
       "      <td>Other</td>\n",
       "      <td>R</td>\n",
       "      <td>99.0</td>\n",
       "      <td>68.0</td>\n",
       "    </tr>\n",
       "    <tr>\n",
       "      <th>2</th>\n",
       "      <td>109270.0</td>\n",
       "      <td>Female</td>\n",
       "      <td>11.0</td>\n",
       "      <td>4.0</td>\n",
       "      <td>Non-Hispanic Black</td>\n",
       "      <td>USA</td>\n",
       "      <td>R</td>\n",
       "      <td>123.0</td>\n",
       "      <td>95.0</td>\n",
       "    </tr>\n",
       "    <tr>\n",
       "      <th>3</th>\n",
       "      <td>109271.0</td>\n",
       "      <td>Male</td>\n",
       "      <td>49.0</td>\n",
       "      <td>3.0</td>\n",
       "      <td>Non-Hispanic White</td>\n",
       "      <td>USA</td>\n",
       "      <td>R</td>\n",
       "      <td>102.0</td>\n",
       "      <td>73.0</td>\n",
       "    </tr>\n",
       "    <tr>\n",
       "      <th>4</th>\n",
       "      <td>109273.0</td>\n",
       "      <td>Male</td>\n",
       "      <td>36.0</td>\n",
       "      <td>3.0</td>\n",
       "      <td>Non-Hispanic White</td>\n",
       "      <td>USA</td>\n",
       "      <td>R</td>\n",
       "      <td>116.0</td>\n",
       "      <td>71.0</td>\n",
       "    </tr>\n",
       "  </tbody>\n",
       "</table>\n",
       "</div>"
      ],
      "text/plain": [
       "       SEQN  Gender  Age in years at screening  Race/Hispanic origin  \\\n",
       "0  109264.0  Female                       13.0                   1.0   \n",
       "1  109266.0  Female                       29.0                   5.0   \n",
       "2  109270.0  Female                       11.0                   4.0   \n",
       "3  109271.0    Male                       49.0                   3.0   \n",
       "4  109273.0    Male                       36.0                   3.0   \n",
       "\n",
       "  Race/Hispanic origin w/ NH Asian Country of birth  \\\n",
       "0                 Mexican American              USA   \n",
       "1               Non-Hispanic Asian            Other   \n",
       "2               Non-Hispanic Black              USA   \n",
       "3               Non-Hispanic White              USA   \n",
       "4               Non-Hispanic White              USA   \n",
       "\n",
       "  Arm selected - oscillometric  Systolic - 1st oscillometric reading  \\\n",
       "0                            R                                 109.0   \n",
       "1                            R                                  99.0   \n",
       "2                            R                                 123.0   \n",
       "3                            R                                 102.0   \n",
       "4                            R                                 116.0   \n",
       "\n",
       "   Pulse - 1st oscillometric reading  \n",
       "0                               94.0  \n",
       "1                               68.0  \n",
       "2                               95.0  \n",
       "3                               73.0  \n",
       "4                               71.0  "
      ]
     },
     "execution_count": 90,
     "metadata": {},
     "output_type": "execute_result"
    }
   ],
   "source": [
    "#__SOLUTION__\n",
    "bp.head()"
   ]
  },
  {
   "cell_type": "markdown",
   "id": "e8bce98d-73ed-4d3e-888c-f58cb131724c",
   "metadata": {},
   "source": [
    "**The relevant columns for our tests will be:**\n",
    "* Gender\n",
    "* Race/Hispanic origin w/ NH Asian\n",
    "* Country of birth\n",
    "* Systolic - 1st oscillometric reading\n",
    "    - An individuals blood pressure measurement\n",
    "* Pulse - 1st oscillometric reading\n",
    "    - The rate of an individual's pulse"
   ]
  },
  {
   "cell_type": "markdown",
   "id": "824e6718-0329-4821-8eb5-fc2bcf9f600d",
   "metadata": {},
   "source": [
    "**Following this cell, no further guidance will be provided.** \n",
    "\n",
    "- *It is up to you to decide whether or not a test should be one-tailed or two-tailed. Please use as many cells as you would like to run the following tests.*\n",
    "- *You can choose to calculate the t and p values manually, or you may use scipy.*\n",
    "- *Be sure to interpret the results of your tests*\n",
    "\n",
    "\n",
    "**Test 1**\n",
    "\n",
    "- Isolate the blood pressure for individals with a gender of `Male` and `Female`\n",
    "- Test for a significant difference.\n",
    "\n",
    "**Test 2**\n",
    "\n",
    "- Isolate the pulse for individals with a race of `Non-Hispanic Black` and `Non-Hispanic White`.\n",
    "- Test for a significant difference.\n",
    "\n",
    "**Test 3**\n",
    "\n",
    "- Isolate the blood pressure for individals with a Country of birth of `USA` and `Other`.\n",
    "- Test for a significant difference."
   ]
  }
 ],
 "metadata": {
  "kernelspec": {
   "display_name": "Python 3",
   "language": "python",
   "name": "python3"
  },
  "language_info": {
   "codemirror_mode": {
    "name": "ipython",
    "version": 3
   },
   "file_extension": ".py",
   "mimetype": "text/x-python",
   "name": "python",
   "nbconvert_exporter": "python",
   "pygments_lexer": "ipython3",
   "version": "3.7.4"
  }
 },
 "nbformat": 4,
 "nbformat_minor": 5
}
